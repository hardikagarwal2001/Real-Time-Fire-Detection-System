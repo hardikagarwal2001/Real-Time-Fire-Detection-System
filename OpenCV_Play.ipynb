{
 "cells": [
  {
   "cell_type": "code",
   "execution_count": 28,
   "id": "a3e8e86e",
   "metadata": {},
   "outputs": [],
   "source": [
    "import tensorflow as tf\n",
    "import numpy as np\n",
    "import cv2\n",
    "from keras.preprocessing import image\n",
    "from keras.preprocessing.image import ImageDataGenerator\n",
    "import numpy\n",
    "import os\n",
    "from PIL import Image\n",
    "import vlc"
   ]
  },
  {
   "cell_type": "code",
   "execution_count": 29,
   "id": "652022e4",
   "metadata": {},
   "outputs": [
    {
     "name": "stdout",
     "output_type": "stream",
     "text": [
      "2.8.0\n"
     ]
    }
   ],
   "source": [
    "sound = vlc.MediaPlayer(\"C:/Users/jugal/Desktop/WTF/fire-alarm.mp3\")\n",
    "print(tf.__version__)"
   ]
  },
  {
   "cell_type": "code",
   "execution_count": 30,
   "id": "f127bdf2",
   "metadata": {},
   "outputs": [],
   "source": [
    "Inception_json = open('InceptionV3.json', 'r')\n",
    "Loaded_Model_json = Inception_json.read()\n",
    "Inception_json.close()\n",
    "Loaded_Model = tf.keras.models.model_from_json(Loaded_Model_json)"
   ]
  },
  {
   "cell_type": "code",
   "execution_count": 31,
   "id": "4b4ca836",
   "metadata": {},
   "outputs": [
    {
     "name": "stdout",
     "output_type": "stream",
     "text": [
      "Loaded model from disk\n"
     ]
    }
   ],
   "source": [
    "Loaded_Model.load_weights(\"InceptionV3.h5\")\n",
    "print(\"Loaded model from disk\")"
   ]
  },
  {
   "cell_type": "code",
   "execution_count": 32,
   "id": "b109142b",
   "metadata": {},
   "outputs": [],
   "source": [
    "Alarm = False\n",
    "\n",
    "Model = Loaded_Model\n",
    "\n",
    "Video = cv2.VideoCapture(0)"
   ]
  },
  {
   "cell_type": "code",
   "execution_count": 33,
   "id": "afd03ea2",
   "metadata": {},
   "outputs": [],
   "source": [
    "while True:\n",
    "    ret, frame = Video.read()\n",
    "    Img = Image.fromarray(frame, 'RGB')\n",
    "    Img = Img.resize((224, 224))\n",
    "    Img_arr = image.img_to_array(Img)\n",
    "    Img_arr = np.expand_dims(Img_arr, axis=0) / 255\n",
    "    Prob = Model.predict(Img_arr)[0]\n",
    "    Pred = np.argmax(Prob)\n",
    "    if Pred == 0 and Prob[Pred] > 0.70:\n",
    "        sound.play()\n",
    "        frame = cv2.cvtColor(frame, cv2.COLOR_RGB2GRAY)\n",
    "    else:\n",
    "        sound.stop()\n",
    "    cv2.imshow(\"Capturing\", frame)\n",
    "\n",
    "    key = cv2.waitKey(1)\n",
    "    if key == ord('q'):\n",
    "        break\n",
    "Video.release()\n",
    "cv2.destroyAllWindows()"
   ]
  },
  {
   "cell_type": "code",
   "execution_count": null,
   "id": "6e3c26b6",
   "metadata": {},
   "outputs": [],
   "source": []
  }
 ],
 "metadata": {
  "kernelspec": {
   "display_name": "Python 3",
   "language": "python",
   "name": "python3"
  },
  "language_info": {
   "codemirror_mode": {
    "name": "ipython",
    "version": 3
   },
   "file_extension": ".py",
   "mimetype": "text/x-python",
   "name": "python",
   "nbconvert_exporter": "python",
   "pygments_lexer": "ipython3",
   "version": "3.8.8"
  }
 },
 "nbformat": 4,
 "nbformat_minor": 5
}
