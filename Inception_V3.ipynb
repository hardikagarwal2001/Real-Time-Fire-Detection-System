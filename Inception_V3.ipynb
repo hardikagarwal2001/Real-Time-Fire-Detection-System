{
 "cells": [
  {
   "cell_type": "code",
   "execution_count": 21,
   "id": "92ce5b55",
   "metadata": {},
   "outputs": [],
   "source": [
    "from keras_preprocessing.image import ImageDataGenerator as IDG\n",
    "from tensorflow.keras.applications.inception_v3 import InceptionV3\n",
    "from tensorflow.keras.models import Model\n",
    "import tensorflow as tf\n",
    "from tensorflow.keras.layers import Dense, GlobalAveragePooling2D, Input, Dropout\n",
    "from tensorflow.keras.optimizers import SGD\n",
    "import matplotlib.pyplot as plt\n",
    "import numpy as np\n",
    "from keras.preprocessing import image\n",
    "import os"
   ]
  },
  {
   "cell_type": "code",
   "execution_count": 22,
   "id": "c095c4db",
   "metadata": {},
   "outputs": [],
   "source": [
    "Train_Data_Dir = \"C:/Users/jugal/Desktop/WTF/Dataset 3/Train\"\n",
    "\n",
    "Train_Data_Gen = IDG(rescale=1./255,\n",
    "                     zoom_range=0.15,\n",
    "                     horizontal_flip=True,\n",
    "                     fill_mode='nearest'\n",
    "                     )"
   ]
  },
  {
   "cell_type": "code",
   "execution_count": 23,
   "id": "598dd018",
   "metadata": {},
   "outputs": [
    {
     "name": "stdout",
     "output_type": "stream",
     "text": [
      "Found 1800 images belonging to 2 classes.\n"
     ]
    }
   ],
   "source": [
    "Validation_Data_Dir = \"C:/Users/jugal/Desktop/WTF/Dataset 3/Test\"\n",
    "Validation_Data_Gen = IDG(rescale = 1./255)\n",
    "\n",
    "train_generator = Train_Data_Gen.flow_from_directory(Train_Data_Dir,\n",
    "                                                       target_size=(224,224),\n",
    "                                                       shuffle = True,\n",
    "                                                       class_mode='categorical',\n",
    "                                                       batch_size = 128\n",
    "                                                       )"
   ]
  },
  {
   "cell_type": "code",
   "execution_count": 24,
   "id": "b1ce379b",
   "metadata": {},
   "outputs": [
    {
     "name": "stdout",
     "output_type": "stream",
     "text": [
      "Found 200 images belonging to 2 classes.\n"
     ]
    }
   ],
   "source": [
    "validation_generator = Validation_Data_Gen.flow_from_directory(Validation_Data_Dir,\n",
    "                                                              target_size=(224,224),\n",
    "                                                              class_mode='categorical',\n",
    "                                                              shuffle = True,\n",
    "                                                              batch_size= 14\n",
    "                                                              )"
   ]
  },
  {
   "cell_type": "code",
   "execution_count": 25,
   "id": "4800b1f3",
   "metadata": {},
   "outputs": [],
   "source": [
    "base_model = InceptionV3(input_tensor=Input(shape=(224, 224, 3)), weights='imagenet', include_top=False)\n",
    "\n",
    "x = base_model.output\n",
    "x = GlobalAveragePooling2D()(x)\n",
    "x = Dense(2048, activation='relu')(x)\n",
    "x = Dropout(0.25)(x)\n",
    "x = Dense(1024, activation='relu')(x)\n",
    "x = Dropout(0.2)(x)\n",
    "predictions = Dense(2, activation='softmax')(x)"
   ]
  },
  {
   "cell_type": "code",
   "execution_count": 26,
   "id": "1445ef2c",
   "metadata": {},
   "outputs": [],
   "source": [
    "model = Model(inputs=base_model.input, outputs=predictions)\n",
    "\n",
    "for layer in base_model.layers:\n",
    "    layer.trainable = False\n",
    "\n",
    "model.compile(optimizer='rmsprop', loss='categorical_crossentropy', metrics=['acc'])"
   ]
  },
  {
   "cell_type": "code",
   "execution_count": 27,
   "id": "f5942114",
   "metadata": {},
   "outputs": [],
   "source": [
    "class myCallback(tf.keras.callbacks.Callback):\n",
    "  def on_epoch_end(self, epoch, logs={}):\n",
    "    if(logs.get('val_loss')<=0.1099 and logs.get('loss')<=0.1099):\n",
    "      print('\\n\\n Reached The Destination!')\n",
    "      self.model.stop_training = True\n",
    "\n",
    "callbacks = myCallback()"
   ]
  },
  {
   "cell_type": "code",
   "execution_count": 28,
   "id": "533800da",
   "metadata": {},
   "outputs": [
    {
     "name": "stdout",
     "output_type": "stream",
     "text": [
      "Epoch 1/20\n",
      "14/14 [==============================] - 128s 9s/step - loss: 8.0393 - acc: 0.7703 - val_loss: 0.1608 - val_acc: 0.9337\n",
      "Epoch 2/20\n",
      "14/14 [==============================] - 112s 8s/step - loss: 0.2283 - acc: 0.9282 - val_loss: 1.3759 - val_acc: 0.5255\n",
      "Epoch 3/20\n",
      "14/14 [==============================] - 115s 8s/step - loss: 0.4342 - acc: 0.8882 - val_loss: 0.1253 - val_acc: 0.9439\n",
      "Epoch 4/20\n",
      "14/14 [==============================] - 98s 7s/step - loss: 0.0914 - acc: 0.9677 - val_loss: 0.4846 - val_acc: 0.8776\n",
      "Epoch 5/20\n",
      "14/14 [==============================] - 108s 8s/step - loss: 0.2404 - acc: 0.9240 - val_loss: 0.6521 - val_acc: 0.7755\n",
      "Epoch 6/20\n",
      "14/14 [==============================] - ETA: 0s - loss: 0.1033 - acc: 0.9647\n",
      "\n",
      " Reached The Destination!\n",
      "14/14 [==============================] - 89s 6s/step - loss: 0.1033 - acc: 0.9647 - val_loss: 0.1015 - val_acc: 0.9694\n"
     ]
    }
   ],
   "source": [
    "history = model.fit(\n",
    "    train_generator,\n",
    "    steps_per_epoch = 14,\n",
    "    epochs = 20,\n",
    "    validation_data = validation_generator,\n",
    "    validation_steps = 14,\n",
    "    callbacks=[callbacks]\n",
    ")"
   ]
  },
  {
   "cell_type": "code",
   "execution_count": 30,
   "id": "dbda6ca4",
   "metadata": {},
   "outputs": [],
   "source": [
    "for layer in model.layers[:249]:\n",
    "   layer.trainable = False\n",
    "for layer in model.layers[249:]:\n",
    "   layer.trainable = True\n",
    "\n",
    "model.compile(optimizer=SGD(lr=0.0001, momentum=0.9), loss='categorical_crossentropy', metrics=['acc'])"
   ]
  },
  {
   "cell_type": "code",
   "execution_count": 31,
   "id": "aa3f946d",
   "metadata": {},
   "outputs": [],
   "source": [
    "class myCallback(tf.keras.callbacks.Callback):\n",
    "  def on_epoch_end(self, epoch, logs={}):\n",
    "    if(logs.get('val_loss')<=0.1099 and logs.get('loss')<=0.1099):\n",
    "      print('\\n\\n Reached The Destination!')\n",
    "      self.model.stop_training = True\n",
    "callbacks = myCallback()"
   ]
  },
  {
   "cell_type": "code",
   "execution_count": 32,
   "id": "aa32a3fa",
   "metadata": {},
   "outputs": [
    {
     "name": "stdout",
     "output_type": "stream",
     "text": [
      "Epoch 1/20\n",
      "14/14 [==============================] - 117s 8s/step - loss: 0.4337 - acc: 0.7781 - val_loss: 0.1022 - val_acc: 0.9694\n",
      "Epoch 2/20\n",
      "14/14 [==============================] - 128s 9s/step - loss: 0.3336 - acc: 0.8254 - val_loss: 0.1012 - val_acc: 0.9643\n",
      "Epoch 3/20\n",
      "14/14 [==============================] - 115s 8s/step - loss: 0.2624 - acc: 0.8636 - val_loss: 0.1043 - val_acc: 0.9643\n",
      "Epoch 4/20\n",
      "14/14 [==============================] - 114s 8s/step - loss: 0.2041 - acc: 0.9091 - val_loss: 0.1086 - val_acc: 0.9592\n",
      "Epoch 5/20\n",
      "14/14 [==============================] - 119s 8s/step - loss: 0.1848 - acc: 0.9205 - val_loss: 0.1132 - val_acc: 0.9592\n",
      "Epoch 6/20\n",
      "14/14 [==============================] - 122s 9s/step - loss: 0.1511 - acc: 0.9459 - val_loss: 0.1080 - val_acc: 0.9592\n",
      "Epoch 7/20\n",
      "14/14 [==============================] - 114s 8s/step - loss: 0.1394 - acc: 0.9486 - val_loss: 0.1180 - val_acc: 0.9592\n",
      "Epoch 8/20\n",
      "14/14 [==============================] - 117s 8s/step - loss: 0.1259 - acc: 0.9623 - val_loss: 0.1276 - val_acc: 0.9541\n",
      "Epoch 9/20\n",
      "14/14 [==============================] - 122s 9s/step - loss: 0.1149 - acc: 0.9677 - val_loss: 0.1212 - val_acc: 0.9592\n",
      "Epoch 10/20\n",
      "14/14 [==============================] - 126s 9s/step - loss: 0.1094 - acc: 0.9699 - val_loss: 0.1338 - val_acc: 0.9541\n",
      "Epoch 11/20\n",
      "14/14 [==============================] - 118s 8s/step - loss: 0.1056 - acc: 0.9713 - val_loss: 0.1364 - val_acc: 0.9541\n",
      "Epoch 12/20\n",
      "14/14 [==============================] - 119s 8s/step - loss: 0.0954 - acc: 0.9779 - val_loss: 0.1396 - val_acc: 0.9541\n",
      "Epoch 13/20\n",
      "14/14 [==============================] - 123s 9s/step - loss: 0.0919 - acc: 0.9755 - val_loss: 0.1341 - val_acc: 0.9592\n",
      "Epoch 14/20\n",
      "14/14 [==============================] - 122s 9s/step - loss: 0.0890 - acc: 0.9803 - val_loss: 0.1426 - val_acc: 0.9541\n",
      "Epoch 15/20\n",
      "14/14 [==============================] - 120s 8s/step - loss: 0.0879 - acc: 0.9785 - val_loss: 0.1440 - val_acc: 0.9541\n",
      "Epoch 16/20\n",
      "14/14 [==============================] - 122s 9s/step - loss: 0.0841 - acc: 0.9755 - val_loss: 0.1415 - val_acc: 0.9541\n",
      "Epoch 17/20\n",
      "14/14 [==============================] - 117s 8s/step - loss: 0.0786 - acc: 0.9809 - val_loss: 0.1396 - val_acc: 0.9541\n",
      "Epoch 18/20\n",
      "14/14 [==============================] - 119s 8s/step - loss: 0.0780 - acc: 0.9827 - val_loss: 0.1434 - val_acc: 0.9541\n",
      "Epoch 19/20\n",
      "14/14 [==============================] - 118s 8s/step - loss: 0.0736 - acc: 0.9809 - val_loss: 0.1381 - val_acc: 0.9541\n",
      "Epoch 20/20\n",
      "14/14 [==============================] - 118s 8s/step - loss: 0.0721 - acc: 0.9821 - val_loss: 0.1421 - val_acc: 0.9541\n"
     ]
    }
   ],
   "source": [
    "history = model.fit(train_generator,\n",
    "                    steps_per_epoch = 14,\n",
    "                    epochs = 20,\n",
    "                    validation_data = validation_generator,\n",
    "                    validation_steps = 14,\n",
    "                    callbacks=[callbacks]\n",
    "                    )"
   ]
  },
  {
   "cell_type": "code",
   "execution_count": 33,
   "id": "fd691307",
   "metadata": {},
   "outputs": [
    {
     "name": "stdout",
     "output_type": "stream",
     "text": [
      "311\n"
     ]
    }
   ],
   "source": [
    "print(len(base_model.layers))"
   ]
  },
  {
   "cell_type": "code",
   "execution_count": 34,
   "id": "3f9bfe2d",
   "metadata": {},
   "outputs": [],
   "source": [
    "get_ipython().run_line_magic('matplotlib', 'inline')\n",
    "\n",
    "acc = history.history['acc']\n",
    "val_acc = history.history['val_acc']\n",
    "loss = history.history['loss']\n",
    "val_loss = history.history['val_loss']"
   ]
  },
  {
   "cell_type": "code",
   "execution_count": 35,
   "id": "ae662767",
   "metadata": {},
   "outputs": [
    {
     "data": {
      "image/png": "[encoded data removed]",
      "text/plain": [
       "<Figure size 432x288 with 1 Axes>"
      ]
     },
     "metadata": {
      "needs_background": "light"
     },
     "output_type": "display_data"
    },
    {
     "data": {
      "text/plain": [
       "<Figure size 432x288 with 0 Axes>"
      ]
     },
     "metadata": {},
     "output_type": "display_data"
    }
   ],
   "source": [
    "epochs = range(len(acc))\n",
    "\n",
    "plt.plot(epochs, acc, 'g', label='Training accuracy')\n",
    "plt.plot(epochs, val_acc, 'b', label='Validation accuracy')\n",
    "plt.title('Training and validation accuracy')\n",
    "\n",
    "plt.legend(loc=0)\n",
    "plt.figure()\n",
    "plt.show()"
   ]
  },
  {
   "cell_type": "code",
   "execution_count": 36,
   "id": "bf6385d7",
   "metadata": {},
   "outputs": [
    {
     "data": {
      "image/png": "[encoded data removed]",
      "text/plain": [
       "<Figure size 432x288 with 1 Axes>"
      ]
     },
     "metadata": {
      "needs_background": "light"
     },
     "output_type": "display_data"
    },
    {
     "data": {
      "text/plain": [
       "<Figure size 432x288 with 0 Axes>"
      ]
     },
     "metadata": {},
     "output_type": "display_data"
    }
   ],
   "source": [
    "plt.plot(epochs, loss, 'r', label='Training loss')\n",
    "plt.plot(epochs, val_loss, 'orange', label='Validation loss')\n",
    "plt.title('Training and validation loss')\n",
    "\n",
    "plt.legend(loc=0)\n",
    "plt.figure()\n",
    "plt.show()"
   ]
  },
  {
   "cell_type": "code",
   "execution_count": 38,
   "id": "1f0266c2",
   "metadata": {},
   "outputs": [
    {
     "name": "stdout",
     "output_type": "stream",
     "text": [
      "True 0.9488986\n"
     ]
    }
   ],
   "source": [
    "path = 'C:/Users/jugal/Desktop/WTF/Dataset 3/Test/Fire/image_53.jpg'\n",
    "img = image.load_img(path, target_size=(224, 224))\n",
    "x = image.img_to_array(img)\n",
    "x = np.expand_dims(x, axis=0) /255\n",
    "classes = model.predict(x)\n",
    "print(np.argmax(classes[0])==0, max(classes[0]))"
   ]
  },
  {
   "cell_type": "code",
   "execution_count": 39,
   "id": "ce28c270",
   "metadata": {},
   "outputs": [
    {
     "name": "stdout",
     "output_type": "stream",
     "text": [
      "Saved model to disk\n"
     ]
    },
    {
     "data": {
      "text/plain": [
       "'C:\\\\Users\\\\jugal'"
      ]
     },
     "execution_count": 39,
     "metadata": {},
     "output_type": "execute_result"
    }
   ],
   "source": [
    "model_json = model.to_json()\n",
    "with open(\"InceptionV3.json\", \"w\") as json_file:\n",
    "    json_file.write(model_json)\n",
    "\n",
    "model.save_weights(\"InceptionV3.h5\")\n",
    "print(\"Saved model to disk\")\n",
    "\n",
    "os.path.dirname(os.path.realpath(\"__file__\"))"
   ]
  },
  {
   "cell_type": "code",
   "execution_count": null,
   "id": "6175b88c",
   "metadata": {},
   "outputs": [],
   "source": []
  }
 ],
 "metadata": {
  "kernelspec": {
   "display_name": "Python 3",
   "language": "python",
   "name": "python3"
  },
  "language_info": {
   "codemirror_mode": {
    "name": "ipython",
    "version": 3
   },
   "file_extension": ".py",
   "mimetype": "text/x-python",
   "name": "python",
   "nbconvert_exporter": "python",
   "pygments_lexer": "ipython3",
   "version": "3.8.8"
  }
 },
 "nbformat": 4,
 "nbformat_minor": 5
}
