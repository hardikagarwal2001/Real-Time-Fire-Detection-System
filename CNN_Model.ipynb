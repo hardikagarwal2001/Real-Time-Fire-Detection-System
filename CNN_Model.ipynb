{
 "cells": [
  {
   "cell_type": "code",
   "execution_count": 19,
   "id": "c19e9bd5",
   "metadata": {},
   "outputs": [],
   "source": [
    "import tensorflow as tf\n",
    "import keras_preprocessing\n",
    "from keras_preprocessing import image\n",
    "from keras_preprocessing.image import ImageDataGenerator as IDG\n",
    "import shutil\n",
    "import warnings\n",
    "from tensorflow.keras.optimizers import RMSprop,Adam\n",
    "import matplotlib.pyplot as plt\n",
    "import numpy as np\n",
    "from keras.preprocessing import image\n",
    "\n",
    "warnings.filterwarnings('ignore')"
   ]
  },
  {
   "cell_type": "code",
   "execution_count": 22,
   "id": "1bfd1a4f",
   "metadata": {},
   "outputs": [],
   "source": [
    "Train_Data_Dir = \"C:/Users/jugal/Desktop/WTF/Datasets 1-2/Training\"\n",
    "\n",
    "Train_Data_Gen = IDG(rescale = 1./255,\n",
    "                     horizontal_flip=True,\n",
    "                     rotation_range=30,\n",
    "                     height_shift_range=0.2,\n",
    "                     fill_mode='nearest'\n",
    "                     )"
   ]
  },
  {
   "cell_type": "code",
   "execution_count": 23,
   "id": "edfb2524",
   "metadata": {},
   "outputs": [
    {
     "name": "stdout",
     "output_type": "stream",
     "text": [
      "Found 980 images belonging to 2 classes.\n"
     ]
    }
   ],
   "source": [
    "Validation_Data_Dir = \"C:/Users/jugal/Desktop/WTF/Datasets 1-2/Validation\"\n",
    "Validation_Data_Gen = IDG(rescale = 1./255)\n",
    "\n",
    "Train_Gen = Train_Data_Gen.flow_from_directory(Train_Data_Dir,\n",
    "                                               target_size=(224,224),\n",
    "                                               class_mode='categorical',\n",
    "                                               batch_size = 64\n",
    "                                               )"
   ]
  },
  {
   "cell_type": "code",
   "execution_count": 4,
   "id": "8829708c",
   "metadata": {},
   "outputs": [
    {
     "name": "stdout",
     "output_type": "stream",
     "text": [
      "Found 239 images belonging to 2 classes.\n"
     ]
    }
   ],
   "source": [
    "Validation_Gen = Validation_Data_Gen.flow_from_directory(Validation_Data_Dir,\n",
    "                                                         target_size=(224,224),\n",
    "                                                         class_mode='categorical',\n",
    "                                                         batch_size= 16\n",
    "                                                         )"
   ]
  },
  {
   "cell_type": "code",
   "execution_count": 5,
   "id": "79c298b0",
   "metadata": {},
   "outputs": [],
   "source": [
    "Model = tf.keras.models.Sequential([\n",
    "    tf.keras.layers.Conv2D(96, (11,11), strides=(4,4), activation='relu', input_shape=(224, 224, 3)),\n",
    "    tf.keras.layers.MaxPooling2D(pool_size = (3,3), strides=(2,2)),\n",
    "    tf.keras.layers.Conv2D(256, (5,5), activation='relu'),\n",
    "    tf.keras.layers.MaxPooling2D(pool_size = (3,3), strides=(2,2)),\n",
    "    tf.keras.layers.Conv2D(384, (5,5), activation='relu'),\n",
    "    tf.keras.layers.MaxPooling2D(pool_size = (3,3), strides=(2,2)),\n",
    "    tf.keras.layers.Flatten(),\n",
    "    tf.keras.layers.Dropout(0.2),\n",
    "    tf.keras.layers.Dense(2048, activation='relu'),\n",
    "    tf.keras.layers.Dropout(0.25),\n",
    "    tf.keras.layers.Dense(1024, activation='relu'),\n",
    "    tf.keras.layers.Dropout(0.2),\n",
    "    tf.keras.layers.Dense(2, activation='softmax')\n",
    "])"
   ]
  },
  {
   "cell_type": "code",
   "execution_count": 6,
   "id": "9fb1b835",
   "metadata": {},
   "outputs": [
    {
     "name": "stdout",
     "output_type": "stream",
     "text": [
      "Model: \"sequential\"\n",
      "_________________________________________________________________\n",
      " Layer (type)                Output Shape              Param #   \n",
      "=================================================================\n",
      " conv2d (Conv2D)             (None, 54, 54, 96)        34944     \n",
      "                                                                 \n",
      " max_pooling2d (MaxPooling2D  (None, 26, 26, 96)       0         \n",
      " )                                                               \n",
      "                                                                 \n",
      " conv2d_1 (Conv2D)           (None, 22, 22, 256)       614656    \n",
      "                                                                 \n",
      " max_pooling2d_1 (MaxPooling  (None, 10, 10, 256)      0         \n",
      " 2D)                                                             \n",
      "                                                                 \n",
      " conv2d_2 (Conv2D)           (None, 6, 6, 384)         2457984   \n",
      "                                                                 \n",
      " max_pooling2d_2 (MaxPooling  (None, 2, 2, 384)        0         \n",
      " 2D)                                                             \n",
      "                                                                 \n",
      " flatten (Flatten)           (None, 1536)              0         \n",
      "                                                                 \n",
      " dropout (Dropout)           (None, 1536)              0         \n",
      "                                                                 \n",
      " dense (Dense)               (None, 2048)              3147776   \n",
      "                                                                 \n",
      " dropout_1 (Dropout)         (None, 2048)              0         \n",
      "                                                                 \n",
      " dense_1 (Dense)             (None, 1024)              2098176   \n",
      "                                                                 \n",
      " dropout_2 (Dropout)         (None, 1024)              0         \n",
      "                                                                 \n",
      " dense_2 (Dense)             (None, 2)                 2050      \n",
      "                                                                 \n",
      "=================================================================\n",
      "Total params: 8,355,586\n",
      "Trainable params: 8,355,586\n",
      "Non-trainable params: 0\n",
      "_________________________________________________________________\n"
     ]
    }
   ],
   "source": [
    "Model.compile(loss='categorical_crossentropy',\n",
    "              optimizer=Adam(lr=0.0001),\n",
    "              metrics=['acc']\n",
    "              )\n",
    "\n",
    "Model.summary()"
   ]
  },
  {
   "cell_type": "code",
   "execution_count": 7,
   "id": "7e3e50ee",
   "metadata": {},
   "outputs": [
    {
     "name": "stdout",
     "output_type": "stream",
     "text": [
      "Epoch 1/50\n",
      "15/15 [==============================] - 61s 4s/step - loss: 0.5087 - acc: 0.7172 - val_loss: 0.4393 - val_acc: 0.8117\n",
      "Epoch 2/50\n",
      "15/15 [==============================] - 58s 4s/step - loss: 0.3377 - acc: 0.8573 - val_loss: 0.2291 - val_acc: 0.9205\n",
      "Epoch 3/50\n",
      "15/15 [==============================] - 57s 4s/step - loss: 0.3131 - acc: 0.8657 - val_loss: 0.3201 - val_acc: 0.8703\n",
      "Epoch 4/50\n",
      "15/15 [==============================] - 55s 4s/step - loss: 0.2764 - acc: 0.8930 - val_loss: 0.2183 - val_acc: 0.9372\n",
      "Epoch 5/50\n",
      "15/15 [==============================] - 59s 4s/step - loss: 0.2198 - acc: 0.9214 - val_loss: 0.2299 - val_acc: 0.9372\n",
      "Epoch 6/50\n",
      "15/15 [==============================] - 64s 4s/step - loss: 0.2533 - acc: 0.9010 - val_loss: 0.2472 - val_acc: 0.9247\n",
      "Epoch 7/50\n",
      "15/15 [==============================] - 60s 4s/step - loss: 0.2153 - acc: 0.9225 - val_loss: 0.2172 - val_acc: 0.9331\n",
      "Epoch 8/50\n",
      "15/15 [==============================] - 55s 4s/step - loss: 0.2010 - acc: 0.9247 - val_loss: 0.2207 - val_acc: 0.9331\n",
      "Epoch 9/50\n",
      "15/15 [==============================] - 57s 4s/step - loss: 0.1926 - acc: 0.9258 - val_loss: 0.2094 - val_acc: 0.9456\n",
      "Epoch 10/50\n",
      "15/15 [==============================] - 65s 4s/step - loss: 0.1750 - acc: 0.9367 - val_loss: 0.2129 - val_acc: 0.9456\n",
      "Epoch 11/50\n",
      "15/15 [==============================] - 60s 4s/step - loss: 0.1852 - acc: 0.9356 - val_loss: 0.1891 - val_acc: 0.9456\n",
      "Epoch 12/50\n",
      "15/15 [==============================] - 65s 4s/step - loss: 0.1646 - acc: 0.9389 - val_loss: 0.1890 - val_acc: 0.9372\n",
      "Epoch 13/50\n",
      "15/15 [==============================] - 73s 5s/step - loss: 0.1684 - acc: 0.9443 - val_loss: 0.1830 - val_acc: 0.9372\n",
      "Epoch 14/50\n",
      "15/15 [==============================] - 73s 5s/step - loss: 0.1513 - acc: 0.9454 - val_loss: 0.1819 - val_acc: 0.9414\n",
      "Epoch 15/50\n",
      "15/15 [==============================] - 88s 6s/step - loss: 0.1576 - acc: 0.9487 - val_loss: 0.1895 - val_acc: 0.9331\n",
      "Epoch 16/50\n",
      "15/15 [==============================] - 114s 8s/step - loss: 0.1660 - acc: 0.9421 - val_loss: 0.1818 - val_acc: 0.9372\n",
      "Epoch 17/50\n",
      "15/15 [==============================] - 122s 8s/step - loss: 0.1865 - acc: 0.9378 - val_loss: 0.1813 - val_acc: 0.9372\n",
      "Epoch 18/50\n",
      "15/15 [==============================] - 114s 8s/step - loss: 0.1519 - acc: 0.9498 - val_loss: 0.2131 - val_acc: 0.9205\n",
      "Epoch 19/50\n",
      "15/15 [==============================] - 100s 7s/step - loss: 0.1824 - acc: 0.9279 - val_loss: 0.1637 - val_acc: 0.9372\n",
      "Epoch 20/50\n",
      "15/15 [==============================] - 64s 4s/step - loss: 0.1484 - acc: 0.9432 - val_loss: 0.1513 - val_acc: 0.9372\n",
      "Epoch 21/50\n",
      "15/15 [==============================] - 60s 4s/step - loss: 0.1376 - acc: 0.9596 - val_loss: 0.1886 - val_acc: 0.9247\n",
      "Epoch 22/50\n",
      "15/15 [==============================] - 60s 4s/step - loss: 0.1364 - acc: 0.9541 - val_loss: 0.1456 - val_acc: 0.9456\n",
      "Epoch 23/50\n",
      "15/15 [==============================] - 60s 4s/step - loss: 0.1228 - acc: 0.9531 - val_loss: 0.2104 - val_acc: 0.9289\n",
      "Epoch 24/50\n",
      "15/15 [==============================] - 67s 5s/step - loss: 0.1707 - acc: 0.9301 - val_loss: 0.1532 - val_acc: 0.9372\n",
      "Epoch 25/50\n",
      "15/15 [==============================] - 59s 4s/step - loss: 0.1875 - acc: 0.9323 - val_loss: 0.1925 - val_acc: 0.9205\n",
      "Epoch 26/50\n",
      "15/15 [==============================] - 61s 4s/step - loss: 0.1548 - acc: 0.9465 - val_loss: 0.1878 - val_acc: 0.9456\n",
      "Epoch 27/50\n",
      "15/15 [==============================] - 65s 4s/step - loss: 0.1296 - acc: 0.9509 - val_loss: 0.1966 - val_acc: 0.9331\n",
      "Epoch 28/50\n",
      "15/15 [==============================] - 62s 4s/step - loss: 0.1264 - acc: 0.9563 - val_loss: 0.1574 - val_acc: 0.9289\n",
      "Epoch 29/50\n",
      "15/15 [==============================] - 67s 4s/step - loss: 0.1173 - acc: 0.9618 - val_loss: 0.1660 - val_acc: 0.9540\n",
      "Epoch 30/50\n",
      "15/15 [==============================] - 63s 4s/step - loss: 0.1042 - acc: 0.9662 - val_loss: 0.1423 - val_acc: 0.9540\n",
      "Epoch 31/50\n",
      "15/15 [==============================] - 59s 4s/step - loss: 0.1239 - acc: 0.9585 - val_loss: 0.1746 - val_acc: 0.9623\n",
      "Epoch 32/50\n",
      "15/15 [==============================] - 59s 4s/step - loss: 0.1116 - acc: 0.9662 - val_loss: 0.1242 - val_acc: 0.9498\n",
      "Epoch 33/50\n",
      "15/15 [==============================] - 60s 4s/step - loss: 0.1033 - acc: 0.9651 - val_loss: 0.2175 - val_acc: 0.9331\n",
      "Epoch 34/50\n",
      "15/15 [==============================] - 58s 4s/step - loss: 0.1581 - acc: 0.9487 - val_loss: 0.1359 - val_acc: 0.9498\n",
      "Epoch 35/50\n",
      "15/15 [==============================] - 59s 4s/step - loss: 0.1260 - acc: 0.9585 - val_loss: 0.1614 - val_acc: 0.9498\n",
      "Epoch 36/50\n",
      "15/15 [==============================] - 60s 4s/step - loss: 0.1011 - acc: 0.9716 - val_loss: 0.1408 - val_acc: 0.9582\n",
      "Epoch 37/50\n",
      "15/15 [==============================] - 63s 4s/step - loss: 0.1105 - acc: 0.9574 - val_loss: 0.1654 - val_acc: 0.9414\n",
      "Epoch 38/50\n",
      "15/15 [==============================] - 64s 4s/step - loss: 0.0916 - acc: 0.9672 - val_loss: 0.1350 - val_acc: 0.9456\n",
      "Epoch 39/50\n",
      "15/15 [==============================] - 104s 7s/step - loss: 0.1120 - acc: 0.9563 - val_loss: 0.1259 - val_acc: 0.9456\n",
      "Epoch 40/50\n",
      "15/15 [==============================] - 157s 10s/step - loss: 0.0911 - acc: 0.9716 - val_loss: 0.1615 - val_acc: 0.9540\n",
      "Epoch 41/50\n",
      "15/15 [==============================] - 157s 11s/step - loss: 0.1046 - acc: 0.9662 - val_loss: 0.2073 - val_acc: 0.9414\n",
      "Epoch 42/50\n",
      "15/15 [==============================] - 143s 10s/step - loss: 0.0954 - acc: 0.9694 - val_loss: 0.1267 - val_acc: 0.9498\n",
      "Epoch 43/50\n",
      "15/15 [==============================] - 66s 4s/step - loss: 0.1028 - acc: 0.9640 - val_loss: 0.1950 - val_acc: 0.9456\n",
      "Epoch 44/50\n",
      "15/15 [==============================] - 55s 4s/step - loss: 0.1261 - acc: 0.9563 - val_loss: 0.1447 - val_acc: 0.9540\n",
      "Epoch 45/50\n",
      "15/15 [==============================] - 55s 4s/step - loss: 0.1045 - acc: 0.9629 - val_loss: 0.1623 - val_acc: 0.9414\n",
      "Epoch 46/50\n",
      "15/15 [==============================] - 56s 4s/step - loss: 0.0945 - acc: 0.9716 - val_loss: 0.1510 - val_acc: 0.9540\n",
      "Epoch 47/50\n",
      "15/15 [==============================] - 55s 4s/step - loss: 0.1074 - acc: 0.9672 - val_loss: 0.1306 - val_acc: 0.9498\n",
      "Epoch 48/50\n",
      "15/15 [==============================] - 59s 4s/step - loss: 0.0883 - acc: 0.9716 - val_loss: 0.1713 - val_acc: 0.9540\n",
      "Epoch 49/50\n",
      "15/15 [==============================] - 55s 4s/step - loss: 0.0948 - acc: 0.9662 - val_loss: 0.1247 - val_acc: 0.9498\n",
      "Epoch 50/50\n",
      "15/15 [==============================] - 57s 4s/step - loss: 0.0914 - acc: 0.9705 - val_loss: 0.1298 - val_acc: 0.9498\n"
     ]
    }
   ],
   "source": [
    "History = Model.fit(Train_Gen,\n",
    "                    steps_per_epoch = 15,\n",
    "                    epochs = 50,\n",
    "                    validation_data = Validation_Gen,\n",
    "                    validation_steps = 15\n",
    "                    )"
   ]
  },
  {
   "cell_type": "code",
   "execution_count": 13,
   "id": "b42c21a6",
   "metadata": {},
   "outputs": [],
   "source": [
    "acc = History.history['acc']\n",
    "val_acc = History.history['val_acc']\n",
    "loss = History.history['loss']\n",
    "val_loss = History.history['val_loss']"
   ]
  },
  {
   "cell_type": "code",
   "execution_count": 14,
   "id": "a4eeff8a",
   "metadata": {},
   "outputs": [
    {
     "data": {
      "image/png": "[encoded data removed]",
      "text/plain": [
       "<Figure size 432x288 with 1 Axes>"
      ]
     },
     "metadata": {
      "needs_background": "light"
     },
     "output_type": "display_data"
    },
    {
     "data": {
      "text/plain": [
       "<Figure size 432x288 with 0 Axes>"
      ]
     },
     "metadata": {},
     "output_type": "display_data"
    }
   ],
   "source": [
    "epochs = range(len(acc))\n",
    "\n",
    "plt.plot(epochs, acc, 'g', label='Training accuracy')\n",
    "plt.plot(epochs, val_acc, 'b', label='Validation accuracy')\n",
    "plt.title('Training and validation accuracy')\n",
    "plt.legend(loc=0)\n",
    "plt.figure()\n",
    "plt.show()"
   ]
  },
  {
   "cell_type": "code",
   "execution_count": 15,
   "id": "cfb45948",
   "metadata": {},
   "outputs": [
    {
     "data": {
      "image/png": "[encoded data removed]",
      "text/plain": [
       "<Figure size 432x288 with 1 Axes>"
      ]
     },
     "metadata": {
      "needs_background": "light"
     },
     "output_type": "display_data"
    },
    {
     "data": {
      "text/plain": [
       "<Figure size 432x288 with 0 Axes>"
      ]
     },
     "metadata": {},
     "output_type": "display_data"
    }
   ],
   "source": [
    "plt.plot(epochs, loss, 'r', label='Training loss')\n",
    "plt.plot(epochs, val_loss, 'orange', label='Validation loss')\n",
    "plt.title('Training and validation loss')\n",
    "\n",
    "plt.legend(loc=0)\n",
    "plt.figure()\n",
    "plt.tight_layout()\n",
    "plt.show()"
   ]
  },
  {
   "cell_type": "code",
   "execution_count": 17,
   "id": "6ec68d93",
   "metadata": {},
   "outputs": [
    {
     "name": "stdout",
     "output_type": "stream",
     "text": [
      "True 0.9086466\n"
     ]
    }
   ],
   "source": [
    "Path = 'C:/Users/jugal/Desktop/WTF/Datasets 1-2/Training/fire/1.jpg'\n",
    "Img = image.load_img(Path, target_size=(224, 224))\n",
    "x = image.img_to_array(Img)\n",
    "x = np.expand_dims(x, axis=0) /255\n",
    "C = Model.predict(x)\n",
    "print(np.argmax(C[0])==0, max(C[0]))"
   ]
  },
  {
   "cell_type": "code",
   "execution_count": 18,
   "id": "7ee4552f",
   "metadata": {},
   "outputs": [
    {
     "name": "stdout",
     "output_type": "stream",
     "text": [
      "Saved model to disk\n"
     ]
    }
   ],
   "source": [
    "model_json = Model.to_json()\n",
    "with open(\"model.json\", \"w\") as json_file:\n",
    "    json_file.write(model_json)\n",
    "Model.save_weights(\"model.h5\")\n",
    "print(\"Saved model to disk\")"
   ]
  },
  {
   "cell_type": "code",
   "execution_count": null,
   "id": "a831e6b9",
   "metadata": {},
   "outputs": [],
   "source": []
  }
 ],
 "metadata": {
  "kernelspec": {
   "display_name": "Python 3",
   "language": "python",
   "name": "python3"
  },
  "language_info": {
   "codemirror_mode": {
    "name": "ipython",
    "version": 3
   },
   "file_extension": ".py",
   "mimetype": "text/x-python",
   "name": "python",
   "nbconvert_exporter": "python",
   "pygments_lexer": "ipython3",
   "version": "3.8.8"
  }
 },
 "nbformat": 4,
 "nbformat_minor": 5
}
